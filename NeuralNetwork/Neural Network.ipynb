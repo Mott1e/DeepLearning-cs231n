{
 "cells": [
  {
   "cell_type": "markdown",
   "metadata": {},
   "source": [
    "# Задание 2.1 - Нейронные сети\n",
    "\n",
    "В этом задании вы реализуете и натренируете настоящую нейроную сеть своими руками!\n",
    "\n",
    "В некотором смысле это будет расширением прошлого задания - нам нужно просто составить несколько линейных классификаторов вместе!\n",
    "\n",
    "<img src=\"https://i.redd.it/n9fgba8b0qr01.png\" alt=\"Stack_more_layers\" width=\"400px\"/>"
   ]
  },
  {
   "cell_type": "code",
   "execution_count": 1,
   "metadata": {},
   "outputs": [],
   "source": [
    "import numpy as np\n",
    "import matplotlib.pyplot as plt\n",
    "\n",
    "%matplotlib inline\n",
    "\n",
    "%load_ext autoreload\n",
    "%autoreload 2"
   ]
  },
  {
   "cell_type": "code",
   "execution_count": 2,
   "metadata": {},
   "outputs": [],
   "source": [
    "from dataset import load_svhn, random_split_train_val\n",
    "from gradient_check import check_layer_gradient, check_layer_param_gradient, check_model_gradient\n",
    "from layers import FullyConnectedLayer, ReLULayer\n",
    "from model import TwoLayerNet\n",
    "from trainer import Trainer, Dataset\n",
    "from optim import SGD, MomentumSGD\n",
    "from metrics import multiclass_accuracy"
   ]
  },
  {
   "cell_type": "markdown",
   "metadata": {},
   "source": [
    "# Загружаем данные\n",
    "\n",
    "И разделяем их на training и validation."
   ]
  },
  {
   "cell_type": "code",
   "execution_count": 3,
   "metadata": {},
   "outputs": [],
   "source": [
    "def prepare_for_neural_network(train_X, test_X):\n",
    "    train_flat = train_X.reshape(train_X.shape[0], -1).astype(np.float32) / 255.0\n",
    "    test_flat = test_X.reshape(test_X.shape[0], -1).astype(np.float32) / 255.0\n",
    "    \n",
    "    # Subtract mean\n",
    "    mean_image = np.mean(train_flat, axis = 0)\n",
    "    train_flat -= mean_image\n",
    "    test_flat -= mean_image\n",
    "    \n",
    "    return train_flat, test_flat\n",
    "    \n",
    "train_X, train_y, test_X, test_y = load_svhn(\"S:\\prgms\\DL\\PyTorch DL\\dlcourse_ai-master\\data\", max_train=10000, max_test=1000)    \n",
    "train_X, test_X = prepare_for_neural_network(train_X, test_X)\n",
    "# Split train into train and val\n",
    "train_X, train_y, val_X, val_y = random_split_train_val(train_X, train_y, num_val = 1000)"
   ]
  },
  {
   "cell_type": "markdown",
   "metadata": {},
   "source": [
    "# Как всегда, начинаем с кирпичиков\n",
    "\n",
    "Мы будем реализовывать необходимые нам слои по очереди. Каждый слой должен реализовать:\n",
    "- прямой проход (forward pass), который генерирует выход слоя по входу и запоминает необходимые данные\n",
    "- обратный проход (backward pass), который получает градиент по выходу слоя и вычисляет градиент по входу и по параметрам\n",
    "\n",
    "Начнем с ReLU, у которого параметров нет."
   ]
  },
  {
   "cell_type": "code",
   "execution_count": 4,
   "metadata": {},
   "outputs": [
    {
     "data": {
      "text/plain": [
       "array([[1. , 0. , 3. ],\n",
       "       [0. , 2. , 0.1]])"
      ]
     },
     "execution_count": 4,
     "metadata": {},
     "output_type": "execute_result"
    }
   ],
   "source": [
    "X = np.array([[1,-2,3],\n",
    "              [-1, 2, 0.1]\n",
    "              ])\n",
    "X = np.vectorize(lambda x: x if x > 0 else 0)(X)\n",
    "\n",
    "X"
   ]
  },
  {
   "cell_type": "code",
   "execution_count": 6,
   "metadata": {
    "scrolled": false
   },
   "outputs": [
    {
     "name": "stdout",
     "output_type": "stream",
     "text": [
      "Gradient check passed!\n"
     ]
    }
   ],
   "source": [
    "# Note: you'll need to copy implementation of the gradient_check function from the previous assignment\n",
    "\n",
    "X = np.array([[1,-2,3],\n",
    "              [-1, 2, 0.1]])\n",
    "\n",
    "assert check_layer_gradient(ReLULayer(), X)"
   ]
  },
  {
   "cell_type": "markdown",
   "metadata": {},
   "source": [
    "А теперь реализуем полносвязный слой (fully connected layer), у которого будет два массива параметров: W (weights) и B (bias).\n",
    "\n",
    "Все наши слои, для своих параметров, будут использовать специальный класс `Param`, в котором будут храниться значения параметров и градиенты этих параметров, вычисляемые во время обратного прохода.\n",
    "\n",
    "Это даст возможность аккумулировать (суммировать) градиенты из разных частей функции потерь, например, из cross-entropy loss и regularization loss."
   ]
  },
  {
   "cell_type": "code",
   "execution_count": 7,
   "metadata": {},
   "outputs": [
    {
     "name": "stdout",
     "output_type": "stream",
     "text": [
      "Gradient check passed!\n",
      "Gradient check passed!\n",
      "Gradient check passed!\n"
     ]
    }
   ],
   "source": [
    "# Implement FullyConnected layer forward and backward methods\n",
    "assert check_layer_gradient(FullyConnectedLayer(3, 4), X)\n",
    "# Implement storing gradients for W and B\n",
    "assert check_layer_param_gradient(FullyConnectedLayer(3, 4), X, 'W')\n",
    "assert check_layer_param_gradient(FullyConnectedLayer(3, 4), X, 'B')"
   ]
  },
  {
   "cell_type": "markdown",
   "metadata": {},
   "source": [
    "## Создаем нейронную сеть\n",
    "\n",
    "Теперь мы реализуем простейшую нейронную сеть с двумя полносвязным слоями и нелинейностью ReLU. Реализуйте функцию `compute_loss_and_gradients`, она должна запустить прямой и обратный проход через оба слоя для вычисления градиентов.\n",
    "\n",
    "Не забудьте реализовать очистку градиентов в начале функции."
   ]
  },
  {
   "cell_type": "code",
   "execution_count": 18,
   "metadata": {},
   "outputs": [
    {
     "name": "stdout",
     "output_type": "stream",
     "text": [
      "Checking gradient for W0\n",
      "Gradient check passed!\n",
      "Checking gradient for B0\n",
      "Gradient check passed!\n",
      "Checking gradient for W2\n",
      "Gradient check passed!\n",
      "Checking gradient for B2\n",
      "Gradient check passed!\n"
     ]
    },
    {
     "data": {
      "text/plain": [
       "True"
      ]
     },
     "execution_count": 18,
     "metadata": {},
     "output_type": "execute_result"
    }
   ],
   "source": [
    "# In model.py, implement compute_loss_and_gradients function\n",
    "model = TwoLayerNet(n_input = train_X.shape[1], n_output = 10, hidden_layer_size = 3, reg = 0)\n",
    "loss = model.compute_loss_and_gradients(train_X[:2], train_y[:2])\n",
    "\n",
    "# Now implement backward pass and aggregate all of the params\n",
    "check_model_gradient(model, train_X[:2], train_y[:2])"
   ]
  },
  {
   "cell_type": "markdown",
   "metadata": {},
   "source": [
    "Теперь добавьте к модели регуляризацию - она должна прибавляться к loss и делать свой вклад в градиенты."
   ]
  },
  {
   "cell_type": "code",
   "execution_count": 19,
   "metadata": {},
   "outputs": [
    {
     "name": "stdout",
     "output_type": "stream",
     "text": [
      "Checking gradient for W0\n",
      "Gradient check passed!\n",
      "Checking gradient for B0\n",
      "Gradient check passed!\n",
      "Checking gradient for W2\n",
      "Gradient check passed!\n",
      "Checking gradient for B2\n",
      "Gradient check passed!\n"
     ]
    },
    {
     "data": {
      "text/plain": [
       "True"
      ]
     },
     "execution_count": 19,
     "metadata": {},
     "output_type": "execute_result"
    }
   ],
   "source": [
    "model_with_reg = TwoLayerNet(n_input = train_X.shape[1], n_output = 10, hidden_layer_size = 3, reg = 0.1)\n",
    "loss_with_reg = model_with_reg.compute_loss_and_gradients(train_X[:2], train_y[:2])\n",
    "assert loss_with_reg > loss and not np.isclose(loss_with_reg, loss), \\\n",
    "    \"Loss with regularization (%2.4f) should be higher than without it (%2.4f)!\" % (loss, loss_with_reg)\n",
    "\n",
    "check_model_gradient(model_with_reg, train_X[:2], train_y[:2])"
   ]
  },
  {
   "cell_type": "markdown",
   "metadata": {},
   "source": [
    "Также реализуем функцию предсказания (вычисления значения) модели на новых данных.\n",
    "\n",
    "Какое значение точности мы ожидаем увидеть до начала тренировки?"
   ]
  },
  {
   "cell_type": "code",
   "execution_count": 20,
   "metadata": {},
   "outputs": [
    {
     "data": {
      "text/plain": [
       "0.06666666666666667"
      ]
     },
     "execution_count": 20,
     "metadata": {},
     "output_type": "execute_result"
    }
   ],
   "source": [
    "# Finally, implement predict function!\n",
    "\n",
    "# What would be the value we expect?\n",
    "multiclass_accuracy(model_with_reg.predict(train_X[:30]), train_y[:30]) "
   ]
  },
  {
   "cell_type": "markdown",
   "metadata": {},
   "source": [
    "# Допишем код для процесса тренировки\n",
    "\n",
    "Если все реализовано корректно, значение функции ошибки должно уменьшаться с каждой эпохой, пусть и медленно. Не беспокойтесь пока про validation accuracy."
   ]
  },
  {
   "cell_type": "code",
   "execution_count": 21,
   "metadata": {},
   "outputs": [
    {
     "name": "stdout",
     "output_type": "stream",
     "text": [
      "Loss: 2.301771, Train accuracy: 0.148222, val accuracy: 0.140000\n",
      "Loss: 2.301805, Train accuracy: 0.196667, val accuracy: 0.206000\n",
      "Loss: 2.302850, Train accuracy: 0.148222, val accuracy: 0.140000\n",
      "Loss: 2.302343, Train accuracy: 0.196667, val accuracy: 0.206000\n",
      "Loss: 2.302030, Train accuracy: 0.196667, val accuracy: 0.206000\n",
      "Loss: 2.301731, Train accuracy: 0.196667, val accuracy: 0.206000\n",
      "Loss: 2.301432, Train accuracy: 0.196667, val accuracy: 0.206000\n",
      "Loss: 2.302787, Train accuracy: 0.196667, val accuracy: 0.206000\n",
      "Loss: 2.302381, Train accuracy: 0.196667, val accuracy: 0.206000\n",
      "Loss: 2.302339, Train accuracy: 0.196667, val accuracy: 0.206000\n",
      "Loss: 2.301962, Train accuracy: 0.196667, val accuracy: 0.206000\n",
      "Loss: 2.302211, Train accuracy: 0.114222, val accuracy: 0.147000\n",
      "Loss: 2.302054, Train accuracy: 0.196667, val accuracy: 0.206000\n",
      "Loss: 2.302975, Train accuracy: 0.196667, val accuracy: 0.206000\n",
      "Loss: 2.301740, Train accuracy: 0.196667, val accuracy: 0.206000\n",
      "Loss: 2.301780, Train accuracy: 0.196667, val accuracy: 0.206000\n",
      "Loss: 2.301396, Train accuracy: 0.196667, val accuracy: 0.206000\n",
      "Loss: 2.302246, Train accuracy: 0.148222, val accuracy: 0.140000\n",
      "Loss: 2.303558, Train accuracy: 0.196667, val accuracy: 0.206000\n",
      "Loss: 2.301915, Train accuracy: 0.196667, val accuracy: 0.206000\n"
     ]
    }
   ],
   "source": [
    "model = TwoLayerNet(n_input = train_X.shape[1], n_output = 10, hidden_layer_size = 100, reg = 1e1)\n",
    "dataset = Dataset(train_X, train_y, val_X, val_y)\n",
    "trainer = Trainer(model, dataset, SGD(), learning_rate = 1e-2)\n",
    "\n",
    "# Implement missing pieces in Trainer.fit function\n",
    "# You should expect loss to go down every epoch, even if it's slow\n",
    "loss_history, train_history, val_history = trainer.fit()"
   ]
  },
  {
   "cell_type": "code",
   "execution_count": 22,
   "metadata": {},
   "outputs": [
    {
     "data": {
      "text/plain": [
       "[<matplotlib.lines.Line2D at 0x1bfa2323ac0>]"
      ]
     },
     "execution_count": 22,
     "metadata": {},
     "output_type": "execute_result"
    },
    {
     "data": {
      "image/png": "[encoded data removed]",
      "text/plain": [
       "<Figure size 640x480 with 1 Axes>"
      ]
     },
     "metadata": {},
     "output_type": "display_data"
    }
   ],
   "source": [
    "plt.plot(train_history)\n",
    "plt.plot(val_history)"
   ]
  },
  {
   "cell_type": "markdown",
   "metadata": {},
   "source": [
    "# Улучшаем процесс тренировки\n",
    "\n",
    "Мы реализуем несколько ключевых оптимизаций, необходимых для тренировки современных нейросетей."
   ]
  },
  {
   "cell_type": "markdown",
   "metadata": {},
   "source": [
    "## Уменьшение скорости обучения (learning rate decay)\n",
    "\n",
    "Одна из необходимых оптимизаций во время тренировки нейронных сетей - постепенное уменьшение скорости обучения по мере тренировки.\n",
    "\n",
    "Один из стандартных методов - уменьшение скорости обучения (learning rate) каждые N эпох на коэффициент d (часто называемый decay). Значения N и d, как всегда, являются гиперпараметрами и должны подбираться на основе эффективности на проверочных данных (validation data). \n",
    "\n",
    "В нашем случае N будет равным 1."
   ]
  },
  {
   "cell_type": "code",
   "execution_count": 23,
   "metadata": {},
   "outputs": [
    {
     "name": "stdout",
     "output_type": "stream",
     "text": [
      "Loss: 2.106375, Train accuracy: 0.196667, val accuracy: 0.206000\n",
      "Loss: 2.082520, Train accuracy: 0.268000, val accuracy: 0.267000\n",
      "Loss: 1.899040, Train accuracy: 0.445444, val accuracy: 0.447000\n",
      "Loss: 1.761519, Train accuracy: 0.549000, val accuracy: 0.548000\n",
      "Loss: 1.641823, Train accuracy: 0.620667, val accuracy: 0.603000\n",
      "Loss: 0.927688, Train accuracy: 0.625556, val accuracy: 0.628000\n",
      "Loss: 1.117262, Train accuracy: 0.659222, val accuracy: 0.635000\n",
      "Loss: 1.154065, Train accuracy: 0.706333, val accuracy: 0.672000\n",
      "Loss: 1.160254, Train accuracy: 0.699222, val accuracy: 0.664000\n",
      "Loss: 0.862635, Train accuracy: 0.709111, val accuracy: 0.683000\n",
      "Loss: 1.229629, Train accuracy: 0.741667, val accuracy: 0.705000\n",
      "Loss: 1.170767, Train accuracy: 0.730222, val accuracy: 0.684000\n",
      "Loss: 1.353178, Train accuracy: 0.775000, val accuracy: 0.722000\n",
      "Loss: 0.741027, Train accuracy: 0.766333, val accuracy: 0.723000\n",
      "Loss: 0.953894, Train accuracy: 0.778667, val accuracy: 0.713000\n",
      "Loss: 0.840265, Train accuracy: 0.775444, val accuracy: 0.712000\n",
      "Loss: 0.801029, Train accuracy: 0.798778, val accuracy: 0.726000\n",
      "Loss: 0.894374, Train accuracy: 0.768778, val accuracy: 0.706000\n",
      "Loss: 1.036964, Train accuracy: 0.801222, val accuracy: 0.729000\n",
      "Loss: 0.691341, Train accuracy: 0.794333, val accuracy: 0.712000\n"
     ]
    }
   ],
   "source": [
    "# Implement learning rate decay inside Trainer.fit method\n",
    "# Decay should happen once per epoch\n",
    "\n",
    "model = TwoLayerNet(n_input = train_X.shape[1], n_output = 10, hidden_layer_size = 100, reg = 1e-3)\n",
    "dataset = Dataset(train_X, train_y, val_X, val_y)\n",
    "trainer = Trainer(model, dataset, SGD(), learning_rate=0.07, learning_rate_decay=0.99)\n",
    "\n",
    "initial_learning_rate = trainer.learning_rate\n",
    "loss_history, train_history, val_history = trainer.fit()\n",
    "\n",
    "assert trainer.learning_rate < initial_learning_rate, \"Learning rate should've been reduced\"\n",
    "assert trainer.learning_rate > 0.5*initial_learning_rate, \"Learning rate shouldn'tve been reduced that much!\""
   ]
  },
  {
   "cell_type": "markdown",
   "metadata": {},
   "source": [
    "# Накопление импульса (Momentum SGD)\n",
    "\n",
    "Другой большой класс оптимизаций - использование более эффективных методов градиентного спуска. Мы реализуем один из них - накопление импульса (Momentum SGD).\n",
    "\n",
    "Этот метод хранит скорость движения, использует градиент для ее изменения на каждом шаге, и изменяет веса пропорционально значению скорости.\n",
    "(Физическая аналогия: Вместо скорости градиенты теперь будут задавать ускорение, но будет присутствовать сила трения.)\n",
    "\n",
    "```\n",
    "velocity = momentum * velocity - learning_rate * gradient \n",
    "w = w + velocity\n",
    "```\n",
    "\n",
    "`momentum` здесь коэффициент затухания, который тоже является гиперпараметром (к счастью, для него часто есть хорошее значение по умолчанию, типичный диапазон -- 0.8-0.99).\n",
    "\n",
    "Несколько полезных ссылок, где метод разбирается более подробно:  \n",
    "http://cs231n.github.io/neural-networks-3/#sgd  \n",
    "https://distill.pub/2017/momentum/"
   ]
  },
  {
   "cell_type": "code",
   "execution_count": 24,
   "metadata": {},
   "outputs": [
    {
     "name": "stdout",
     "output_type": "stream",
     "text": [
      "Loss: 3.831808, Train accuracy: 0.286889, val accuracy: 0.288000\n",
      "Loss: 3.355455, Train accuracy: 0.390889, val accuracy: 0.400000\n",
      "Loss: 2.704480, Train accuracy: 0.462222, val accuracy: 0.472000\n",
      "Loss: 2.073305, Train accuracy: 0.512444, val accuracy: 0.482000\n",
      "Loss: 2.897012, Train accuracy: 0.478667, val accuracy: 0.456000\n",
      "Loss: 1.296387, Train accuracy: 0.538889, val accuracy: 0.538000\n",
      "Loss: 2.102099, Train accuracy: 0.571222, val accuracy: 0.535000\n",
      "Loss: 2.093065, Train accuracy: 0.503556, val accuracy: 0.469000\n",
      "Loss: 2.032574, Train accuracy: 0.545111, val accuracy: 0.503000\n",
      "Loss: 1.788955, Train accuracy: 0.589889, val accuracy: 0.562000\n",
      "Loss: 1.647369, Train accuracy: 0.640667, val accuracy: 0.619000\n",
      "Loss: 1.620184, Train accuracy: 0.603111, val accuracy: 0.572000\n",
      "Loss: 2.718341, Train accuracy: 0.562444, val accuracy: 0.558000\n",
      "Loss: 1.469877, Train accuracy: 0.643778, val accuracy: 0.607000\n",
      "Loss: 1.072748, Train accuracy: 0.661667, val accuracy: 0.624000\n",
      "Loss: 1.296722, Train accuracy: 0.677333, val accuracy: 0.634000\n",
      "Loss: 1.162119, Train accuracy: 0.662000, val accuracy: 0.617000\n",
      "Loss: 1.634087, Train accuracy: 0.675778, val accuracy: 0.632000\n",
      "Loss: 1.735337, Train accuracy: 0.656000, val accuracy: 0.624000\n",
      "Loss: 1.012199, Train accuracy: 0.696000, val accuracy: 0.651000\n"
     ]
    }
   ],
   "source": [
    "# Implement MomentumSGD.update function in optim.py\n",
    "\n",
    "model = TwoLayerNet(n_input = train_X.shape[1], n_output = 10, hidden_layer_size = 100, reg = 1e-3)\n",
    "dataset = Dataset(train_X, train_y, val_X, val_y)\n",
    "trainer = Trainer(model, dataset, MomentumSGD(), learning_rate=0.07, learning_rate_decay=0.95)\n",
    "\n",
    "# You should see even better results than before!\n",
    "loss_history, train_history, val_history = trainer.fit()"
   ]
  },
  {
   "cell_type": "markdown",
   "metadata": {},
   "source": [
    "# Ну что, давайте уже тренировать сеть!"
   ]
  },
  {
   "cell_type": "markdown",
   "metadata": {},
   "source": [
    "## Последний тест - переобучимся (overfit) на маленьком наборе данных\n",
    "\n",
    "Хороший способ проверить, все ли реализовано корректно - переобучить сеть на маленьком наборе данных.  \n",
    "Наша модель обладает достаточной мощностью, чтобы приблизить маленький набор данных идеально, поэтому мы ожидаем, что на нем мы быстро дойдем до 100% точности на тренировочном наборе. \n",
    "\n",
    "Если этого не происходит, то где-то была допущена ошибка!"
   ]
  },
  {
   "cell_type": "code",
   "execution_count": 25,
   "metadata": {},
   "outputs": [
    {
     "name": "stdout",
     "output_type": "stream",
     "text": [
      "Loss: 2.331851, Train accuracy: 0.200000, val accuracy: 0.066667\n",
      "Loss: 2.312300, Train accuracy: 0.200000, val accuracy: 0.066667\n",
      "Loss: 2.328613, Train accuracy: 0.200000, val accuracy: 0.066667\n",
      "Loss: 2.281380, Train accuracy: 0.333333, val accuracy: 0.066667\n",
      "Loss: 2.264139, Train accuracy: 0.266667, val accuracy: 0.000000\n",
      "Loss: 2.276350, Train accuracy: 0.266667, val accuracy: 0.000000\n",
      "Loss: 2.279046, Train accuracy: 0.266667, val accuracy: 0.000000\n",
      "Loss: 2.229528, Train accuracy: 0.266667, val accuracy: 0.000000\n",
      "Loss: 2.138750, Train accuracy: 0.400000, val accuracy: 0.000000\n",
      "Loss: 2.290788, Train accuracy: 0.400000, val accuracy: 0.000000\n",
      "Loss: 2.003173, Train accuracy: 0.400000, val accuracy: 0.000000\n",
      "Loss: 1.760905, Train accuracy: 0.400000, val accuracy: 0.000000\n",
      "Loss: 2.272236, Train accuracy: 0.400000, val accuracy: 0.000000\n",
      "Loss: 1.796956, Train accuracy: 0.333333, val accuracy: 0.000000\n",
      "Loss: 2.046677, Train accuracy: 0.333333, val accuracy: 0.000000\n",
      "Loss: 1.500812, Train accuracy: 0.333333, val accuracy: 0.000000\n",
      "Loss: 1.767196, Train accuracy: 0.333333, val accuracy: 0.000000\n",
      "Loss: 1.563058, Train accuracy: 0.400000, val accuracy: 0.000000\n",
      "Loss: 1.914596, Train accuracy: 0.400000, val accuracy: 0.000000\n",
      "Loss: 1.848968, Train accuracy: 0.400000, val accuracy: 0.066667\n",
      "Loss: 1.971579, Train accuracy: 0.400000, val accuracy: 0.000000\n",
      "Loss: 1.385813, Train accuracy: 0.400000, val accuracy: 0.000000\n",
      "Loss: 1.595217, Train accuracy: 0.400000, val accuracy: 0.000000\n",
      "Loss: 1.668876, Train accuracy: 0.400000, val accuracy: 0.000000\n",
      "Loss: 1.596448, Train accuracy: 0.466667, val accuracy: 0.066667\n",
      "Loss: 1.610949, Train accuracy: 0.466667, val accuracy: 0.000000\n",
      "Loss: 1.430373, Train accuracy: 0.466667, val accuracy: 0.066667\n",
      "Loss: 1.718579, Train accuracy: 0.466667, val accuracy: 0.066667\n",
      "Loss: 1.854133, Train accuracy: 0.466667, val accuracy: 0.000000\n",
      "Loss: 1.903301, Train accuracy: 0.466667, val accuracy: 0.066667\n",
      "Loss: 1.590906, Train accuracy: 0.600000, val accuracy: 0.000000\n",
      "Loss: 1.856121, Train accuracy: 0.533333, val accuracy: 0.000000\n",
      "Loss: 1.487250, Train accuracy: 0.666667, val accuracy: 0.000000\n",
      "Loss: 1.880977, Train accuracy: 0.666667, val accuracy: 0.066667\n",
      "Loss: 1.563083, Train accuracy: 0.666667, val accuracy: 0.000000\n",
      "Loss: 1.689127, Train accuracy: 0.666667, val accuracy: 0.066667\n",
      "Loss: 2.253008, Train accuracy: 0.666667, val accuracy: 0.066667\n",
      "Loss: 1.561298, Train accuracy: 0.666667, val accuracy: 0.066667\n",
      "Loss: 1.395549, Train accuracy: 0.666667, val accuracy: 0.066667\n",
      "Loss: 1.168197, Train accuracy: 0.666667, val accuracy: 0.000000\n",
      "Loss: 1.758181, Train accuracy: 0.666667, val accuracy: 0.066667\n",
      "Loss: 1.769056, Train accuracy: 0.533333, val accuracy: 0.066667\n",
      "Loss: 2.014620, Train accuracy: 0.666667, val accuracy: 0.133333\n",
      "Loss: 1.336163, Train accuracy: 0.666667, val accuracy: 0.133333\n",
      "Loss: 1.420867, Train accuracy: 0.666667, val accuracy: 0.133333\n",
      "Loss: 1.753936, Train accuracy: 0.600000, val accuracy: 0.000000\n",
      "Loss: 1.348600, Train accuracy: 0.733333, val accuracy: 0.066667\n",
      "Loss: 0.920333, Train accuracy: 0.733333, val accuracy: 0.066667\n",
      "Loss: 1.019715, Train accuracy: 0.733333, val accuracy: 0.133333\n",
      "Loss: 1.733075, Train accuracy: 0.733333, val accuracy: 0.066667\n",
      "Loss: 1.002230, Train accuracy: 0.733333, val accuracy: 0.000000\n",
      "Loss: 1.005667, Train accuracy: 0.733333, val accuracy: 0.000000\n",
      "Loss: 1.432002, Train accuracy: 0.733333, val accuracy: 0.066667\n",
      "Loss: 1.798665, Train accuracy: 0.733333, val accuracy: 0.066667\n",
      "Loss: 1.778742, Train accuracy: 0.733333, val accuracy: 0.066667\n",
      "Loss: 2.067552, Train accuracy: 0.733333, val accuracy: 0.066667\n",
      "Loss: 1.767722, Train accuracy: 0.733333, val accuracy: 0.066667\n",
      "Loss: 1.343169, Train accuracy: 0.733333, val accuracy: 0.066667\n",
      "Loss: 1.637838, Train accuracy: 0.733333, val accuracy: 0.066667\n",
      "Loss: 1.286528, Train accuracy: 0.733333, val accuracy: 0.066667\n",
      "Loss: 1.611083, Train accuracy: 0.733333, val accuracy: 0.066667\n",
      "Loss: 1.943927, Train accuracy: 0.733333, val accuracy: 0.066667\n",
      "Loss: 1.993235, Train accuracy: 0.733333, val accuracy: 0.066667\n",
      "Loss: 1.992116, Train accuracy: 0.733333, val accuracy: 0.000000\n",
      "Loss: 1.815065, Train accuracy: 0.733333, val accuracy: 0.066667\n",
      "Loss: 0.943592, Train accuracy: 0.733333, val accuracy: 0.066667\n",
      "Loss: 1.358512, Train accuracy: 0.733333, val accuracy: 0.066667\n",
      "Loss: 2.298150, Train accuracy: 0.733333, val accuracy: 0.066667\n",
      "Loss: 1.565294, Train accuracy: 0.733333, val accuracy: 0.066667\n",
      "Loss: 1.459384, Train accuracy: 0.733333, val accuracy: 0.066667\n",
      "Loss: 1.425034, Train accuracy: 0.733333, val accuracy: 0.066667\n",
      "Loss: 1.004748, Train accuracy: 0.866667, val accuracy: 0.066667\n",
      "Loss: 1.934213, Train accuracy: 0.866667, val accuracy: 0.066667\n",
      "Loss: 1.382134, Train accuracy: 0.800000, val accuracy: 0.066667\n",
      "Loss: 1.277036, Train accuracy: 0.800000, val accuracy: 0.066667\n",
      "Loss: 1.399731, Train accuracy: 0.866667, val accuracy: 0.066667\n",
      "Loss: 1.287573, Train accuracy: 0.866667, val accuracy: 0.066667\n",
      "Loss: 1.630495, Train accuracy: 0.866667, val accuracy: 0.066667\n",
      "Loss: 1.507298, Train accuracy: 0.866667, val accuracy: 0.066667\n",
      "Loss: 1.324572, Train accuracy: 0.866667, val accuracy: 0.066667\n",
      "Loss: 1.085950, Train accuracy: 0.866667, val accuracy: 0.066667\n",
      "Loss: 1.545386, Train accuracy: 0.866667, val accuracy: 0.066667\n",
      "Loss: 1.406826, Train accuracy: 0.866667, val accuracy: 0.066667\n",
      "Loss: 1.627946, Train accuracy: 0.933333, val accuracy: 0.066667\n",
      "Loss: 1.684395, Train accuracy: 0.933333, val accuracy: 0.066667\n",
      "Loss: 1.666286, Train accuracy: 0.933333, val accuracy: 0.066667\n",
      "Loss: 1.270070, Train accuracy: 0.933333, val accuracy: 0.066667\n",
      "Loss: 0.986560, Train accuracy: 0.933333, val accuracy: 0.066667\n",
      "Loss: 1.229264, Train accuracy: 0.933333, val accuracy: 0.066667\n",
      "Loss: 1.373382, Train accuracy: 0.933333, val accuracy: 0.066667\n",
      "Loss: 1.222727, Train accuracy: 0.933333, val accuracy: 0.066667\n",
      "Loss: 1.622299, Train accuracy: 0.933333, val accuracy: 0.066667\n",
      "Loss: 1.247780, Train accuracy: 0.933333, val accuracy: 0.066667\n",
      "Loss: 1.107763, Train accuracy: 0.933333, val accuracy: 0.066667\n",
      "Loss: 1.558495, Train accuracy: 0.933333, val accuracy: 0.066667\n",
      "Loss: 1.005824, Train accuracy: 0.933333, val accuracy: 0.066667\n",
      "Loss: 1.276352, Train accuracy: 0.933333, val accuracy: 0.066667\n",
      "Loss: 1.594304, Train accuracy: 0.933333, val accuracy: 0.066667\n",
      "Loss: 1.313834, Train accuracy: 0.933333, val accuracy: 0.066667\n",
      "Loss: 1.338480, Train accuracy: 0.933333, val accuracy: 0.066667\n",
      "Loss: 1.563548, Train accuracy: 0.933333, val accuracy: 0.000000\n",
      "Loss: 1.590523, Train accuracy: 0.933333, val accuracy: 0.066667\n",
      "Loss: 1.554698, Train accuracy: 0.933333, val accuracy: 0.066667\n",
      "Loss: 1.184255, Train accuracy: 0.933333, val accuracy: 0.000000\n",
      "Loss: 1.260740, Train accuracy: 0.933333, val accuracy: 0.000000\n",
      "Loss: 1.119526, Train accuracy: 0.933333, val accuracy: 0.000000\n",
      "Loss: 1.522217, Train accuracy: 0.933333, val accuracy: 0.000000\n",
      "Loss: 1.271792, Train accuracy: 0.933333, val accuracy: 0.000000\n",
      "Loss: 1.433033, Train accuracy: 0.933333, val accuracy: 0.000000\n",
      "Loss: 1.413594, Train accuracy: 0.933333, val accuracy: 0.000000\n",
      "Loss: 1.331454, Train accuracy: 0.933333, val accuracy: 0.000000\n",
      "Loss: 1.436544, Train accuracy: 0.933333, val accuracy: 0.000000\n",
      "Loss: 1.400887, Train accuracy: 0.933333, val accuracy: 0.000000\n",
      "Loss: 1.638979, Train accuracy: 0.933333, val accuracy: 0.000000\n",
      "Loss: 1.122098, Train accuracy: 1.000000, val accuracy: 0.000000\n",
      "Loss: 1.429047, Train accuracy: 1.000000, val accuracy: 0.000000\n",
      "Loss: 1.537630, Train accuracy: 1.000000, val accuracy: 0.000000\n",
      "Loss: 1.373216, Train accuracy: 1.000000, val accuracy: 0.000000\n",
      "Loss: 1.314443, Train accuracy: 1.000000, val accuracy: 0.000000\n",
      "Loss: 1.122651, Train accuracy: 1.000000, val accuracy: 0.000000\n",
      "Loss: 1.191275, Train accuracy: 0.933333, val accuracy: 0.000000\n",
      "Loss: 1.346513, Train accuracy: 1.000000, val accuracy: 0.000000\n",
      "Loss: 1.489240, Train accuracy: 1.000000, val accuracy: 0.000000\n",
      "Loss: 1.222225, Train accuracy: 1.000000, val accuracy: 0.000000\n",
      "Loss: 1.250263, Train accuracy: 1.000000, val accuracy: 0.000000\n",
      "Loss: 1.267377, Train accuracy: 1.000000, val accuracy: 0.000000\n",
      "Loss: 1.299393, Train accuracy: 1.000000, val accuracy: 0.000000\n",
      "Loss: 1.479752, Train accuracy: 1.000000, val accuracy: 0.000000\n",
      "Loss: 1.298592, Train accuracy: 1.000000, val accuracy: 0.000000\n",
      "Loss: 1.345082, Train accuracy: 1.000000, val accuracy: 0.000000\n",
      "Loss: 1.317094, Train accuracy: 1.000000, val accuracy: 0.000000\n",
      "Loss: 1.233126, Train accuracy: 1.000000, val accuracy: 0.000000\n",
      "Loss: 1.179791, Train accuracy: 1.000000, val accuracy: 0.000000\n",
      "Loss: 1.225188, Train accuracy: 1.000000, val accuracy: 0.000000\n",
      "Loss: 1.313925, Train accuracy: 1.000000, val accuracy: 0.000000\n",
      "Loss: 1.288781, Train accuracy: 1.000000, val accuracy: 0.000000\n",
      "Loss: 1.232100, Train accuracy: 1.000000, val accuracy: 0.000000\n",
      "Loss: 1.145615, Train accuracy: 1.000000, val accuracy: 0.000000\n",
      "Loss: 1.400408, Train accuracy: 1.000000, val accuracy: 0.000000\n",
      "Loss: 1.252762, Train accuracy: 1.000000, val accuracy: 0.000000\n",
      "Loss: 1.591811, Train accuracy: 1.000000, val accuracy: 0.000000\n",
      "Loss: 1.046840, Train accuracy: 1.000000, val accuracy: 0.000000\n",
      "Loss: 1.295694, Train accuracy: 1.000000, val accuracy: 0.000000\n",
      "Loss: 1.445257, Train accuracy: 1.000000, val accuracy: 0.000000\n",
      "Loss: 1.196635, Train accuracy: 1.000000, val accuracy: 0.000000\n",
      "Loss: 1.342604, Train accuracy: 1.000000, val accuracy: 0.000000\n",
      "Loss: 1.297971, Train accuracy: 1.000000, val accuracy: 0.000000\n",
      "Loss: 1.425424, Train accuracy: 1.000000, val accuracy: 0.000000\n",
      "Loss: 1.130499, Train accuracy: 1.000000, val accuracy: 0.000000\n",
      "Loss: 1.208356, Train accuracy: 1.000000, val accuracy: 0.000000\n"
     ]
    }
   ],
   "source": [
    "data_size = 15\n",
    "model = TwoLayerNet(n_input = train_X.shape[1], n_output = 10, hidden_layer_size = 100, reg = 1e-1)\n",
    "dataset = Dataset(train_X[:data_size], train_y[:data_size], val_X[:data_size], val_y[:data_size])\n",
    "trainer = Trainer(model, dataset, SGD(), learning_rate=1e-1, num_epochs=150, batch_size=5)\n",
    "\n",
    "# You should expect this to reach 1.0 training accuracy \n",
    "loss_history, train_history, val_history = trainer.fit()"
   ]
  },
  {
   "cell_type": "markdown",
   "metadata": {},
   "source": [
    "Теперь найдем гипепараметры, для которых этот процесс сходится быстрее.\n",
    "Если все реализовано корректно, то существуют параметры, при которых процесс сходится в **20** эпох или еще быстрее.\n",
    "Найдите их!"
   ]
  },
  {
   "cell_type": "code",
   "execution_count": 26,
   "metadata": {},
   "outputs": [
    {
     "name": "stdout",
     "output_type": "stream",
     "text": [
      "Loss: 2.318626, Train accuracy: 0.200000, val accuracy: 0.133333\n",
      "Loss: 2.319025, Train accuracy: 0.200000, val accuracy: 0.133333\n",
      "Loss: 2.289250, Train accuracy: 0.200000, val accuracy: 0.066667\n",
      "Loss: 1.970459, Train accuracy: 0.400000, val accuracy: 0.000000\n",
      "Loss: 1.797943, Train accuracy: 0.466667, val accuracy: 0.000000\n",
      "Loss: 1.218898, Train accuracy: 0.333333, val accuracy: 0.000000\n",
      "Loss: 1.463662, Train accuracy: 0.466667, val accuracy: 0.066667\n",
      "Loss: 1.425077, Train accuracy: 0.600000, val accuracy: 0.000000\n",
      "Loss: 1.680217, Train accuracy: 0.533333, val accuracy: 0.066667\n",
      "Loss: 0.959392, Train accuracy: 0.733333, val accuracy: 0.000000\n",
      "Loss: 0.798867, Train accuracy: 0.800000, val accuracy: 0.000000\n",
      "Loss: 0.900535, Train accuracy: 0.933333, val accuracy: 0.000000\n",
      "Loss: 0.472467, Train accuracy: 0.800000, val accuracy: 0.000000\n",
      "Loss: 0.825095, Train accuracy: 0.866667, val accuracy: 0.066667\n",
      "Loss: 2.146775, Train accuracy: 0.733333, val accuracy: 0.133333\n",
      "Loss: 0.893087, Train accuracy: 0.866667, val accuracy: 0.066667\n",
      "Loss: 1.456221, Train accuracy: 1.000000, val accuracy: 0.000000\n",
      "Loss: 0.657872, Train accuracy: 1.000000, val accuracy: 0.000000\n",
      "Loss: 0.056619, Train accuracy: 1.000000, val accuracy: 0.000000\n",
      "Loss: 0.050609, Train accuracy: 1.000000, val accuracy: 0.000000\n"
     ]
    }
   ],
   "source": [
    "# Now, tweak some hyper parameters and make it train to 1.0 accuracy in 20 epochs or less\n",
    "\n",
    "model = TwoLayerNet(n_input = train_X.shape[1], n_output = 10, hidden_layer_size = 100, reg = 1e-3)\n",
    "dataset = Dataset(train_X[:data_size], train_y[:data_size], val_X[:data_size], val_y[:data_size])\n",
    "# TODO: Change any hyperparamers or optimizators to reach training accuracy in 20 epochs\n",
    "trainer = Trainer(model, dataset, MomentumSGD(0.55), learning_rate=0.2, num_epochs=20, batch_size=5)\n",
    "\n",
    "loss_history, train_history, val_history = trainer.fit()"
   ]
  },
  {
   "cell_type": "markdown",
   "metadata": {},
   "source": [
    "# Итак, основное мероприятие!\n",
    "\n",
    "Натренируйте лучшую нейросеть! Можно добавлять и изменять параметры, менять количество нейронов в слоях сети и как угодно экспериментировать. \n",
    "\n",
    "Добейтесь точности лучше **60%** на validation set."
   ]
  },
  {
   "cell_type": "code",
   "execution_count": 30,
   "metadata": {
    "scrolled": true
   },
   "outputs": [
    {
     "name": "stdout",
     "output_type": "stream",
     "text": [
      "*================================================================*\n",
      "          LR: 0.14 | REG: 0.005 | DECAY: 0.75 | BS: 192\n",
      "*================================================================*\n",
      "Loss: 2.212337, Train accuracy: 0.196667, val accuracy: 0.206000\n",
      "Loss: 2.182227, Train accuracy: 0.216333, val accuracy: 0.220000\n",
      "Loss: 1.991860, Train accuracy: 0.291444, val accuracy: 0.295000\n",
      "Loss: 1.853101, Train accuracy: 0.418111, val accuracy: 0.414000\n",
      "Loss: 1.664158, Train accuracy: 0.482556, val accuracy: 0.457000\n",
      "Loss: 1.622967, Train accuracy: 0.539556, val accuracy: 0.554000\n",
      "Loss: 1.618486, Train accuracy: 0.597111, val accuracy: 0.588000\n",
      "Loss: 1.584225, Train accuracy: 0.633556, val accuracy: 0.624000\n",
      "Loss: 1.658188, Train accuracy: 0.659556, val accuracy: 0.631000\n",
      "Loss: 1.604431, Train accuracy: 0.658000, val accuracy: 0.653000\n",
      "Loss: 1.560568, Train accuracy: 0.645556, val accuracy: 0.631000\n",
      "Loss: 1.484464, Train accuracy: 0.671889, val accuracy: 0.660000\n",
      "Loss: 1.502767, Train accuracy: 0.693778, val accuracy: 0.678000\n",
      "Loss: 1.391407, Train accuracy: 0.675000, val accuracy: 0.671000\n",
      "Loss: 1.504607, Train accuracy: 0.660556, val accuracy: 0.648000\n",
      "Loss: 1.569695, Train accuracy: 0.695333, val accuracy: 0.683000\n",
      "Loss: 1.657250, Train accuracy: 0.695111, val accuracy: 0.684000\n",
      "Loss: 1.450284, Train accuracy: 0.709333, val accuracy: 0.690000\n",
      "Loss: 1.507517, Train accuracy: 0.695444, val accuracy: 0.693000\n",
      "Loss: 1.625835, Train accuracy: 0.703556, val accuracy: 0.675000\n",
      "Loss: 1.537030, Train accuracy: 0.671778, val accuracy: 0.646000\n",
      "Loss: 1.527863, Train accuracy: 0.701444, val accuracy: 0.680000\n",
      "Loss: 1.592480, Train accuracy: 0.679667, val accuracy: 0.672000\n",
      "Loss: 1.603451, Train accuracy: 0.663556, val accuracy: 0.655000\n",
      "Loss: 1.653352, Train accuracy: 0.702556, val accuracy: 0.676000\n",
      "Loss: 1.564227, Train accuracy: 0.713778, val accuracy: 0.683000\n",
      "Loss: 1.603823, Train accuracy: 0.685444, val accuracy: 0.669000\n",
      "Loss: 1.515391, Train accuracy: 0.714667, val accuracy: 0.697000\n",
      "Loss: 1.561292, Train accuracy: 0.714333, val accuracy: 0.692000\n",
      "Loss: 1.494316, Train accuracy: 0.734667, val accuracy: 0.698000\n",
      "*================================================================*\n",
      "\n",
      "*================================================================*\n",
      "best validation accuracy achieved: 0.698000\n"
     ]
    }
   ],
   "source": [
    "# Let's train the best one-hidden-layer network we can\n",
    "dataset = Dataset(train_X, train_y, val_X, val_y)\n",
    "\n",
    "learning_rates = [0.14]\n",
    "reg_strength = [0.005]\n",
    "learning_rate_decay = [0.75]\n",
    "hidden_layer_size = 128\n",
    "num_epochs = 30\n",
    "batch_size = [192]\n",
    "\n",
    "best_classifier = None\n",
    "best_val_accuracy = 0\n",
    "\n",
    "loss_history = []\n",
    "train_history = []\n",
    "val_history = []\n",
    "\n",
    "for batch in batch_size:\n",
    "    for lr in learning_rates:\n",
    "        for reg in reg_strength:\n",
    "            for decay in learning_rate_decay:\n",
    "                print(f'*================================================================*\\n          LR: {lr} | REG: {reg} | DECAY: {decay} | BS: {batch}\\n*================================================================*')\n",
    "                model = TwoLayerNet(n_input = train_X.shape[1], n_output = 10, hidden_layer_size = hidden_layer_size, reg = reg)\n",
    "                trainer = Trainer(model, dataset, MomentumSGD(decay), learning_rate=lr, num_epochs=num_epochs, batch_size=batch)\n",
    "                \n",
    "                loss, train_acc, val_acc = trainer.fit()\n",
    "                if val_acc[-1] > best_val_accuracy:\n",
    "                    best_classifier = model\n",
    "                    best_val_accuracy = val_acc[-1]\n",
    "                    loss_history, train_history, val_history = loss, train_acc, val_acc\n",
    "                print(f'*================================================================*\\n\\n*================================================================*')\n",
    "                \n",
    "\n",
    "\n",
    "# TODO find the best hyperparameters to train the network\n",
    "# Don't hesitate to add new values to the arrays above, perform experiments, use any tricks you want\n",
    "# You should expect to get to at least 40% of valudation accuracy\n",
    "# Save loss/train/history of the best classifier to the variables above\n",
    "# LR: 0.1 | REG: 0.0001 | DECAY: 0.95 | BS: 128\n",
    "# LR: 0.1 | REG: 0.0001 | DECAY: 0.9 | BS: 128\n",
    "# LR: 0.1 | REG: 0.001 | DECAY: 0.9 | BS: 128\n",
    "\n",
    "print('best validation accuracy achieved: %f' % best_val_accuracy)"
   ]
  },
  {
   "cell_type": "code",
   "execution_count": 31,
   "metadata": {},
   "outputs": [
    {
     "data": {
      "text/plain": [
       "[<matplotlib.lines.Line2D at 0x1bfa24d5070>]"
      ]
     },
     "execution_count": 31,
     "metadata": {},
     "output_type": "execute_result"
    },
    {
     "data": {
      "image/png": "[encoded data removed]",
      "text/plain": [
       "<Figure size 1500x700 with 2 Axes>"
      ]
     },
     "metadata": {},
     "output_type": "display_data"
    }
   ],
   "source": [
    "plt.figure(figsize=(15, 7))\n",
    "plt.subplot(211)\n",
    "plt.title(\"Loss\")\n",
    "plt.plot(loss_history)\n",
    "plt.subplot(212)\n",
    "plt.title(\"Train/validation accuracy\")\n",
    "plt.plot(train_history)\n",
    "plt.plot(val_history)"
   ]
  },
  {
   "cell_type": "markdown",
   "metadata": {},
   "source": [
    "# Как обычно, посмотрим, как наша лучшая модель работает на тестовых данных"
   ]
  },
  {
   "cell_type": "code",
   "execution_count": 32,
   "metadata": {},
   "outputs": [
    {
     "name": "stdout",
     "output_type": "stream",
     "text": [
      "Neural net test set accuracy: 0.671000\n"
     ]
    }
   ],
   "source": [
    "test_pred = best_classifier.predict(test_X)\n",
    "test_accuracy = multiclass_accuracy(test_pred, test_y)\n",
    "print('Neural net test set accuracy: %f' % (test_accuracy, ))"
   ]
  }
 ],
 "metadata": {
  "kernelspec": {
   "display_name": "Python 3",
   "language": "python",
   "name": "python3"
  },
  "language_info": {
   "codemirror_mode": {
    "name": "ipython",
    "version": 3
   },
   "file_extension": ".py",
   "mimetype": "text/x-python",
   "name": "python",
   "nbconvert_exporter": "python",
   "pygments_lexer": "ipython3",
   "version": "3.9.0"
  }
 },
 "nbformat": 4,
 "nbformat_minor": 2
}
