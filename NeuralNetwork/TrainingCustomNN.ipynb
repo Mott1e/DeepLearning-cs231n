{
 "cells": [
  {
   "cell_type": "code",
   "execution_count": 1,
   "metadata": {},
   "outputs": [],
   "source": [
    "import torch\n",
    "import torch.nn as nn\n",
    "import torch.optim as optim\n",
    "import torch.optim.lr_scheduler as lr_scheduler\n",
    "import torchvision.datasets as dset\n",
    "from torch.utils.data.sampler import SubsetRandomSampler, Sampler\n",
    "from torch.utils.data import DataLoader, random_split\n",
    "\n",
    "from metrics import multiclass_accuracy\n",
    "\n",
    "from torchvision import transforms\n",
    "\n",
    "import matplotlib.pyplot as plt\n",
    "%matplotlib inline\n",
    "\n",
    "import numpy as np"
   ]
  },
  {
   "cell_type": "code",
   "execution_count": 2,
   "metadata": {},
   "outputs": [
    {
     "name": "stdout",
     "output_type": "stream",
     "text": [
      "using device: cuda\n"
     ]
    }
   ],
   "source": [
    "# Используем GPU чтобы ускорить вычисления\n",
    "device = (\"cuda\" if torch.cuda.is_available() else \"cpu\")\n",
    "print(f'using device: {device}')"
   ]
  },
  {
   "cell_type": "code",
   "execution_count": 25,
   "metadata": {},
   "outputs": [],
   "source": [
    "def train_model(model, train_loader, val_loader, loss, optimizer, scheduler=None, num_epochs=5):    \n",
    "    \n",
    "    device = (\"cuda\" if torch.cuda.is_available() else \"cpu\")\n",
    "    print(device)\n",
    "\n",
    "    loss_history = []\n",
    "    train_history = []\n",
    "    val_history = []\n",
    "    for epoch in range(num_epochs):\n",
    "        model.train() # Enter train mode\n",
    "        \n",
    "        loss_accum = 0\n",
    "        correct_samples = 0\n",
    "        total_samples = 0\n",
    "        for i_step, (x, y) in enumerate(train_loader):\n",
    "            x = x.to(device)\n",
    "            y = y.to(device)\n",
    "            prediction = model(x)    \n",
    "            loss_value = loss(prediction, y)\n",
    "            optimizer.zero_grad()\n",
    "            loss_value.backward()\n",
    "            optimizer.step()\n",
    "            \n",
    "            _, indices = torch.max(prediction, 1)\n",
    "            correct_samples += torch.sum(indices == y)\n",
    "            total_samples += y.shape[0]\n",
    "            \n",
    "            loss_accum += loss_value\n",
    "\n",
    "        if scheduler != None:\n",
    "            scheduler.step()\n",
    "        \n",
    "        ave_loss = loss_accum / (i_step + 1)\n",
    "        train_accuracy = float(correct_samples) / total_samples\n",
    "        val_accuracy = compute_accuracy(model, val_loader)\n",
    "        \n",
    "        loss_history.append(float(ave_loss))\n",
    "        train_history.append(train_accuracy)\n",
    "        val_history.append(val_accuracy)\n",
    "        \n",
    "        print(\"Average loss: %f, Train accuracy: %f, Val accuracy: %f\" % (ave_loss, train_accuracy, val_accuracy))\n",
    "        \n",
    "    return loss_history, train_history, val_history\n",
    "        \n",
    "def compute_accuracy(model, loader):\n",
    "    \"\"\"\n",
    "    Computes accuracy on the dataset wrapped in a loader\n",
    "    \n",
    "    Returns: accuracy as a float value between 0 and 1\n",
    "    \"\"\"\n",
    "    model.eval() # Evaluation mode\n",
    "    #       Implement the inference of the model on all of the batches from loader,\n",
    "    #       and compute the overall accuracy.\n",
    "    # Hint: PyTorch has the argmax function!\n",
    "    correct = 0\n",
    "    all = 0\n",
    "    # all_accuracy = []\n",
    "    for (x, y) in loader:\n",
    "        x = x.to(device)\n",
    "        y = y.to(device)\n",
    "        prob = model(x)\n",
    "        predict = torch.argmax(prob, dim=1)\n",
    "        correct += torch.sum(predict == y)\n",
    "        all += len(predict)\n",
    "        # accuracy = multiclass_accuracy(prob, y)\n",
    "        # all_accuracy.append(accuracy)\n",
    "        \n",
    "    return float(correct) / float(all)"
   ]
  },
  {
   "cell_type": "code",
   "execution_count": 26,
   "metadata": {},
   "outputs": [
    {
     "name": "stdout",
     "output_type": "stream",
     "text": [
      "Using downloaded and verified file: data/train_32x32.mat\n",
      "Using downloaded and verified file: data/test_32x32.mat\n"
     ]
    }
   ],
   "source": [
    "data_train = dset.SVHN('data/', download=True, split='train',\n",
    "                       transform=transforms.Compose([transforms.ToTensor()])\n",
    "                      )\n",
    "data_test = dset.SVHN('data/', download=True, split='test', \n",
    "                      transform=transforms.Compose([transforms.ToTensor()]))\n",
    "\n",
    "batch_size = 128\n",
    "\n",
    "test_size = int(len(data_test) * 0.3)\n",
    "val_size = len(data_test) - test_size\n",
    "\n",
    "test_data, val_data = random_split(data_test, [test_size, val_size])\n",
    "\n",
    "train_loader = DataLoader(data_train, batch_size=batch_size)\n",
    "test_loader = DataLoader(test_data, batch_size=batch_size)\n",
    "val_loader = DataLoader(val_data, batch_size=batch_size)"
   ]
  },
  {
   "cell_type": "code",
   "execution_count": 38,
   "metadata": {},
   "outputs": [],
   "source": [
    "class NeuralNetwork(nn.Module):\n",
    "    def __init__(self):\n",
    "        super().__init__()\n",
    "        \n",
    "        self.flatten = nn.Flatten()\n",
    "        self.layers = nn.Sequential(\n",
    "            nn.Linear(3*32*32, 100),\n",
    "            nn.BatchNorm1d(100),\n",
    "            nn.ReLU(), \n",
    "                        \n",
    "            nn.Linear(100, 100),\n",
    "            nn.BatchNorm1d(100),\n",
    "            nn.ReLU(),\n",
    "            \n",
    "            nn.Linear(100, 10)\n",
    "            )\n",
    "\n",
    "    def forward(self, x):\n",
    "        x = self.flatten(x)\n",
    "        logits = self.layers(x)\n",
    "        return logits\n",
    "        "
   ]
  },
  {
   "cell_type": "code",
   "execution_count": 52,
   "metadata": {},
   "outputs": [],
   "source": [
    "model = NeuralNetwork().to(device=device)\n",
    "\n",
    "# optimizer = optim.Adagrad(model.parameters(), lr=0.01, lr_decay=0.1)\n",
    "# optimizer = optim.Adam(model.parameters(), lr=0.0002)\n",
    "optimizer = optim.Adam(model.parameters(), lr=0.00002)\n",
    "# optimizer = optim.SGD(model.parameters(), lr=0.001)\n",
    "loss = nn.CrossEntropyLoss().type(torch.FloatTensor)"
   ]
  },
  {
   "cell_type": "code",
   "execution_count": 54,
   "metadata": {},
   "outputs": [
    {
     "name": "stdout",
     "output_type": "stream",
     "text": [
      "cuda\n",
      "Average loss: 0.706993, Train accuracy: 0.797890, Val accuracy: 0.738956\n",
      "Average loss: 0.684348, Train accuracy: 0.803596, Val accuracy: 0.743676\n",
      "Average loss: 0.664970, Train accuracy: 0.808114, Val accuracy: 0.750316\n",
      "Average loss: 0.646891, Train accuracy: 0.812769, Val accuracy: 0.748505\n",
      "Average loss: 0.631059, Train accuracy: 0.816768, Val accuracy: 0.750206\n",
      "Average loss: 0.616008, Train accuracy: 0.820631, Val accuracy: 0.751139\n",
      "Average loss: 0.602074, Train accuracy: 0.824153, Val accuracy: 0.757340\n",
      "Average loss: 0.589347, Train accuracy: 0.827593, Val accuracy: 0.757888\n",
      "Average loss: 0.577766, Train accuracy: 0.831115, Val accuracy: 0.760907\n",
      "Average loss: 0.566755, Train accuracy: 0.834473, Val accuracy: 0.758657\n",
      "Average loss: 0.556658, Train accuracy: 0.836548, Val accuracy: 0.763815\n",
      "Average loss: 0.546932, Train accuracy: 0.839851, Val accuracy: 0.767931\n",
      "Average loss: 0.538305, Train accuracy: 0.842295, Val accuracy: 0.767601\n",
      "Average loss: 0.530142, Train accuracy: 0.844820, Val accuracy: 0.764473\n",
      "Average loss: 0.522255, Train accuracy: 0.846581, Val accuracy: 0.758327\n",
      "Average loss: 0.514978, Train accuracy: 0.848970, Val accuracy: 0.764309\n",
      "Average loss: 0.507966, Train accuracy: 0.850431, Val accuracy: 0.763486\n",
      "Average loss: 0.501085, Train accuracy: 0.852478, Val accuracy: 0.763431\n",
      "Average loss: 0.495473, Train accuracy: 0.854335, Val accuracy: 0.761291\n",
      "Average loss: 0.489466, Train accuracy: 0.855495, Val accuracy: 0.759480\n",
      "Average loss: 0.483688, Train accuracy: 0.857406, Val accuracy: 0.761675\n",
      "Average loss: 0.478398, Train accuracy: 0.858430, Val accuracy: 0.757449\n",
      "Average loss: 0.473388, Train accuracy: 0.860450, Val accuracy: 0.760961\n",
      "Average loss: 0.468584, Train accuracy: 0.861556, Val accuracy: 0.759974\n",
      "Average loss: 0.463568, Train accuracy: 0.863017, Val accuracy: 0.760632\n"
     ]
    }
   ],
   "source": [
    "optimizer = optim.Adam(model.parameters(), lr=0.00002)\n",
    "\n",
    "loss_history, train_history, val_history = train_model(model, train_loader, val_loader, loss, optimizer, scheduler=None, num_epochs=25)"
   ]
  },
  {
   "cell_type": "code",
   "execution_count": 55,
   "metadata": {},
   "outputs": [
    {
     "name": "stdout",
     "output_type": "stream",
     "text": [
      "Test accuracy: 0.7558\n"
     ]
    }
   ],
   "source": [
    "# Как всегда, в конце проверяем на test set\n",
    "test_accuracy = compute_accuracy(model, test_loader)\n",
    "print(\"Test accuracy: %2.4f\" % test_accuracy)"
   ]
  }
 ],
 "metadata": {
  "kernelspec": {
   "display_name": "AIenv",
   "language": "python",
   "name": "python3"
  },
  "language_info": {
   "codemirror_mode": {
    "name": "ipython",
    "version": 3
   },
   "file_extension": ".py",
   "mimetype": "text/x-python",
   "name": "python",
   "nbconvert_exporter": "python",
   "pygments_lexer": "ipython3",
   "version": "3.9.0"
  },
  "orig_nbformat": 4
 },
 "nbformat": 4,
 "nbformat_minor": 2
}
